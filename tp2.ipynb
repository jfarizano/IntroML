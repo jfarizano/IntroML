{
 "cells": [
  {
   "cell_type": "code",
   "execution_count": 1,
   "metadata": {},
   "outputs": [],
   "source": [
    "# Imports iniciales\n",
    "%matplotlib inline\n",
    "from common import *\n",
    "from ann import *\n",
    "from sklearn.model_selection import KFold"
   ]
  },
  {
   "cell_type": "code",
   "execution_count": 2,
   "metadata": {},
   "outputs": [],
   "source": [
    "# Ejercicio 1\n",
    "\n",
    "epochs=25 # numero de epocas que entrena cada vez\n",
    "eta=0.01 # learning rate\n",
    "alfa=0.9 # momentum\n",
    "N2=60  # neuronas en la capa oculta\n",
    "evals = 1000 # evalauciones del entrenamiento\n",
    "\n",
    "df_spirals_600 = generate_spirals(600)\n",
    "kf = KFold(n_splits = 5, shuffle = True)\n",
    "result = next(kf.split(df_spirals_600), None)\n",
    "df_train_spirals = df_spirals_600.iloc[result[0]]\n",
    "df_val_spirals = df_spirals_600.iloc[result[1]]\n",
    "\n",
    "df_test_spirals = generate_spirals(2000)\n",
    "\n",
    "X_train, y_train = df_train_spirals[[0, 1]], df_train_spirals['Class']\n",
    "X_val, y_val = df_val_spirals[[0, 1]], df_val_spirals['Class']\n",
    "X_test, y_test = df_test_spirals[[0, 1]], df_test_spirals['Class']\n",
    "\n",
    "\n",
    "for N2 in [2, 10, 20, 40]:\n",
    "  classif = create_net_classifier(N2, eta, alfa, epochs)\n",
    "  best_net, e_train, e_val, e_test = train_net(classif, evals, X_train, y_train, X_val, y_val, X_test, y_test)\n"
   ]
  }
 ],
 "metadata": {
  "interpreter": {
   "hash": "3a5a52167880705a0cfdf1d0cb75e9380dd218a768d06d94d7eb0bbf7647658a"
  },
  "kernelspec": {
   "display_name": "Python 3.9.12 ('pypy')",
   "language": "python",
   "name": "python3"
  },
  "language_info": {
   "codemirror_mode": {
    "name": "ipython",
    "version": 3
   },
   "file_extension": ".py",
   "mimetype": "text/x-python",
   "name": "python",
   "nbconvert_exporter": "python",
   "pygments_lexer": "ipython3",
   "version": "3.9.7"
  },
  "orig_nbformat": 4
 },
 "nbformat": 4,
 "nbformat_minor": 2
}
